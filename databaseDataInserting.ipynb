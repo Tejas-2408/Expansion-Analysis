{
 "cells": [
  {
   "cell_type": "code",
   "execution_count": 1,
   "metadata": {},
   "outputs": [],
   "source": [
    "import os\n",
    "import pandas as pd\n",
    "import pymysql"
   ]
  },
  {
   "cell_type": "code",
   "execution_count": 2,
   "metadata": {},
   "outputs": [],
   "source": [
    "# Database connection details\n",
    "DB_PARAMS = {\n",
    "    \"host\": \"localhost\",\n",
    "    \"user\": \"root\",\n",
    "    \"password\": \"root\",\n",
    "    \"database\": \"monday_coffee\",\n",
    "    \"port\": 3306\n",
    "}"
   ]
  },
  {
   "cell_type": "code",
   "execution_count": 3,
   "metadata": {},
   "outputs": [
    {
     "name": "stderr",
     "output_type": "stream",
     "text": [
      "<>:2: SyntaxWarning: invalid escape sequence '\\P'\n",
      "<>:2: SyntaxWarning: invalid escape sequence '\\P'\n",
      "C:\\Users\\tejas\\AppData\\Local\\Temp\\ipykernel_13460\\2656490718.py:2: SyntaxWarning: invalid escape sequence '\\P'\n",
      "  CSV_FOLDER = \"D:\\Projects\\SQL Projects\\Expansion Analysis\\dataset\"\n"
     ]
    }
   ],
   "source": [
    "# Folder containing CSV files\n",
    "CSV_FOLDER = \"D:\\Projects\\SQL Projects\\Expansion Analysis\\dataset\""
   ]
  },
  {
   "cell_type": "code",
   "execution_count": 4,
   "metadata": {},
   "outputs": [],
   "source": [
    "def create_table_from_csv(cursor, table_name, df):\n",
    "    \"\"\"Create table based on CSV file structure.\"\"\"\n",
    "    column_definitions = \", \".join([f'`{col}` TEXT' for col in df.columns])\n",
    "    create_table_query = f'CREATE TABLE IF NOT EXISTS `{table_name}` ({column_definitions});'\n",
    "    cursor.execute(create_table_query)"
   ]
  },
  {
   "cell_type": "code",
   "execution_count": 5,
   "metadata": {},
   "outputs": [],
   "source": [
    "def insert_data_from_csv(cursor, table_name, df):\n",
    "    \"\"\"Insert data from DataFrame into MySQL table.\"\"\"\n",
    "    for _, row in df.iterrows():\n",
    "        placeholders = ', '.join(['%s'] * len(row))\n",
    "        insert_query = f'INSERT INTO `{table_name}` VALUES ({placeholders})'\n",
    "        cursor.execute(insert_query, tuple(row))"
   ]
  },
  {
   "cell_type": "code",
   "execution_count": 7,
   "metadata": {},
   "outputs": [],
   "source": [
    "def process_csv_files():\n",
    "    \"\"\"Process each CSV file and store it in MySQL.\"\"\"\n",
    "    conn = pymysql.connect(**DB_PARAMS)\n",
    "    cursor = conn.cursor()\n",
    "\n",
    "    for file in os.listdir(CSV_FOLDER):\n",
    "        if file.endswith(\".csv\"):\n",
    "            file_path = os.path.join(CSV_FOLDER, file)\n",
    "            table_name = os.path.splitext(file)[0]  # Use filename as table name\n",
    "\n",
    "            df = pd.read_csv(file_path)  # Load CSV into DataFrame\n",
    "            create_table_from_csv(cursor, table_name, df)  # Create table\n",
    "            insert_data_from_csv(cursor, table_name, df)  # Insert data\n",
    "\n",
    "            conn.commit()\n",
    "            print(f\"Loaded {file} into {table_name}\")\n",
    "\n",
    "    cursor.close()\n",
    "    conn.close()"
   ]
  },
  {
   "cell_type": "code",
   "execution_count": 8,
   "metadata": {},
   "outputs": [
    {
     "name": "stdout",
     "output_type": "stream",
     "text": [
      "Loaded city.csv into city\n",
      "Loaded customers.csv into customers\n",
      "Loaded products.csv into products\n",
      "Loaded sales.csv into sales\n"
     ]
    }
   ],
   "source": [
    "if __name__ == \"__main__\":\n",
    "    process_csv_files()"
   ]
  }
 ],
 "metadata": {
  "kernelspec": {
   "display_name": "Python 3",
   "language": "python",
   "name": "python3"
  },
  "language_info": {
   "codemirror_mode": {
    "name": "ipython",
    "version": 3
   },
   "file_extension": ".py",
   "mimetype": "text/x-python",
   "name": "python",
   "nbconvert_exporter": "python",
   "pygments_lexer": "ipython3",
   "version": "3.12.0"
  }
 },
 "nbformat": 4,
 "nbformat_minor": 2
}
